{
 "cells": [
  {
   "cell_type": "markdown",
   "metadata": {},
   "source": [
    "Given an array nums of n integers, are there elements a, b, c in nums such that a + b + c = 0? \n",
    "\n",
    "Find all unique triplets in the array which gives the sum of zero.\n",
    "\n",
    "Note:\n",
    "\n",
    "The solution set must not contain duplicate triplets.\n",
    "\n",
    "Example:\n",
    "\n",
    "Given array nums = [-1, 0, 1, 2, -1, -4],\n",
    "\n",
    "A solution set is:\n",
    "[\n",
    "  [-1, 0, 1],\n",
    "  [-1, -1, 2]\n",
    "]"
   ]
  },
  {
   "cell_type": "code",
   "execution_count": 8,
   "metadata": {},
   "outputs": [
    {
     "name": "stdout",
     "output_type": "stream",
     "text": [
      "[[-1, 0, 1], [-1, 2, -1]]\n"
     ]
    }
   ],
   "source": [
    "def returnMatches(first, second):\n",
    "    return set(first) & set(second)\n",
    "\n",
    "nums = [-1, 0, 1, 2, -1, -4]\n",
    "num_length = len(nums)\n",
    "\n",
    "result_list = []\n",
    "for i in range(num_length):\n",
    "    for j in range(i + 1, num_length):\n",
    "        for k in range(i + j + 1, num_length):\n",
    "            count_list = [nums[i], nums[j], nums[k]]\n",
    "            \n",
    "            if(sum(count_list) == 0 and count_list != [0,0,0]):\n",
    "                tag = False\n",
    "                for l in result_list:\n",
    "                    if(len(returnMatches(l, count_list))== 3):\n",
    "                        tag = True\n",
    "                        break\n",
    "                if(not tag):\n",
    "                    result_list.append(count_list)\n",
    "                \n",
    "print(result_list)"
   ]
  },
  {
   "cell_type": "code",
   "execution_count": null,
   "metadata": {},
   "outputs": [],
   "source": []
  }
 ],
 "metadata": {
  "kernelspec": {
   "display_name": "Python 3",
   "language": "python",
   "name": "python3"
  },
  "language_info": {
   "codemirror_mode": {
    "name": "ipython",
    "version": 3
   },
   "file_extension": ".py",
   "mimetype": "text/x-python",
   "name": "python",
   "nbconvert_exporter": "python",
   "pygments_lexer": "ipython3",
   "version": "3.6.4"
  }
 },
 "nbformat": 4,
 "nbformat_minor": 2
}
