{
 "cells": [
  {
   "cell_type": "markdown",
   "metadata": {},
   "source": [
    "Write a function to find the longest common prefix string amongst an array of strings.\n",
    "\n",
    "If there is no common prefix, return an empty string \"\".\n",
    "\n",
    "* Example 1:\n",
    "\n",
    "<pre>\n",
    "Input: [\"flower\",\"flow\",\"flight\"]\n",
    "Output: \"fl\"\n",
    "</pre>\n",
    "\n",
    "* Example 2:\n",
    "\n",
    "<pre>\n",
    "Input: [\"dog\",\"racecar\",\"car\"]\n",
    "Output: \"\"\n",
    "Explanation: There is no common prefix among the input strings.\n",
    "</pre>\n"
   ]
  },
  {
   "cell_type": "code",
   "execution_count": 38,
   "metadata": {},
   "outputs": [
    {
     "name": "stdout",
     "output_type": "stream",
     "text": [
      "Input: ['flower', 'flow', 'flight']\n",
      "Outbput: fl\n",
      "\n",
      "Input: ['dog', 'racecar', 'car']\n",
      "Outbput: \n",
      "\n"
     ]
    }
   ],
   "source": [
    "class Solution:\n",
    "    def longestCommonPrefix(self, strs: list) -> str:\n",
    "        result_list, take, index = [], \"\", 0\n",
    "        \n",
    "        while(index < len(strs[0])):\n",
    "            for i in strs[0][index:]:\n",
    "                if (sum([1 for value in strs if i in value]) == len(strs)):\n",
    "                    take += i\n",
    "                else:\n",
    "                    result_list.append(take)\n",
    "                    take = \"\"\n",
    "                    break\n",
    "            index += 1\n",
    "            \n",
    "        return max(result_list, key = len) \n",
    "solution = Solution()\n",
    "for strs in [[\"flower\", \"flow\", \"flight\"], [\"dog\", \"racecar\", \"car\"]]:\n",
    "    print(\"Input: %s\" % str(strs))\n",
    "    print('Outbput: %s\\n' % str(solution.longestCommonPrefix(strs)))"
   ]
  }
 ],
 "metadata": {
  "kernelspec": {
   "display_name": "Python 3",
   "language": "python",
   "name": "python3"
  },
  "language_info": {
   "codemirror_mode": {
    "name": "ipython",
    "version": 3
   },
   "file_extension": ".py",
   "mimetype": "text/x-python",
   "name": "python",
   "nbconvert_exporter": "python",
   "pygments_lexer": "ipython3",
   "version": "3.6.4"
  }
 },
 "nbformat": 4,
 "nbformat_minor": 2
}
