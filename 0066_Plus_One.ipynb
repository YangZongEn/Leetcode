{
 "cells": [
  {
   "cell_type": "markdown",
   "metadata": {},
   "source": [
    "Given a non-empty array of digits representing a non-negative integer, plus one to the integer.\n",
    "\n",
    "The digits are stored such that the most significant digit is at the head of the list, and each element in the array contain a single digit.\n",
    "\n",
    "You may assume the integer does not contain any leading zero, except the number 0 itself.\n",
    "\n",
    "* Example 1:\n",
    "\n",
    "<pre>\n",
    "Input: [1,2,3]\n",
    "Output: [1,2,4]\n",
    "Explanation: The array represents the integer 123.\n",
    "</pre>\n",
    "\n",
    "* Example 2:\n",
    "\n",
    "<pre>\n",
    "Input: [4,3,2,1]\n",
    "Output: [4,3,2,2]\n",
    "Explanation: The array represents the integer 4321.\n",
    "</pre>"
   ]
  },
  {
   "cell_type": "code",
   "execution_count": 18,
   "metadata": {},
   "outputs": [
    {
     "name": "stdout",
     "output_type": "stream",
     "text": [
      "Input: [1, 2, 3]\n",
      "Outbput: [1, 2, 4]\n",
      "\n",
      "Input: [4, 3, 2, 1]\n",
      "Outbput: [4, 3, 2, 2]\n",
      "\n",
      "Input: [9, 9, 9, 9]\n",
      "Outbput: [1, 0, 0, 0, 0]\n",
      "\n"
     ]
    }
   ],
   "source": [
    "class Solution:\n",
    "    def plusOne(self, digits: list) -> list:\n",
    "        digits[-1] += 1\n",
    "        take_ceiling = False\n",
    "        \n",
    "        for i, value in enumerate(digits[::-1]):\n",
    "            item = value + (1 if(take_ceiling) else 0)\n",
    "            if(item == 10):\n",
    "                take_ceiling = True\n",
    "                digits[len(digits) - 1 - i] = 0\n",
    "            else:\n",
    "                digits[len(digits) - 1 - i] = item\n",
    "                take_ceiling = False\n",
    "                \n",
    "        if(take_ceiling):\n",
    "            digits.insert(0, 1)\n",
    "        \n",
    "        return digits\n",
    "    \n",
    "solution = Solution()\n",
    "\n",
    "for item in [[1,2,3], [4,3,2,1], [9,9,9,9]]:\n",
    "    print(\"Input: %s\" % str(item))\n",
    "    print('Outbput: %s\\n' % str(solution.plusOne(item)))"
   ]
  },
  {
   "cell_type": "code",
   "execution_count": null,
   "metadata": {},
   "outputs": [],
   "source": []
  }
 ],
 "metadata": {
  "kernelspec": {
   "display_name": "Python 3",
   "language": "python",
   "name": "python3"
  },
  "language_info": {
   "codemirror_mode": {
    "name": "ipython",
    "version": 3
   },
   "file_extension": ".py",
   "mimetype": "text/x-python",
   "name": "python",
   "nbconvert_exporter": "python",
   "pygments_lexer": "ipython3",
   "version": "3.6.4"
  }
 },
 "nbformat": 4,
 "nbformat_minor": 2
}
