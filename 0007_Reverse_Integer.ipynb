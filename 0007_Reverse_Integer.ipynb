{
 "cells": [
  {
   "cell_type": "markdown",
   "metadata": {},
   "source": [
    "Given a 32-bit signed integer, reverse digits of an integer.\n",
    "\n",
    "* Example 1:\n",
    "\n",
    "<pre>\n",
    "Input: 123\n",
    "Output: 321\n",
    "</pre>\n",
    "\n",
    "* Example 2:\n",
    "\n",
    "<pre>\n",
    "Input: -123\n",
    "Output: -321\n",
    "</pre>\n",
    "\n",
    "* Example 3:\n",
    "\n",
    "<pre>\n",
    "Input: 120\n",
    "Output: 21\n",
    "</pre>\n"
   ]
  },
  {
   "cell_type": "code",
   "execution_count": 3,
   "metadata": {},
   "outputs": [
    {
     "name": "stdout",
     "output_type": "stream",
     "text": [
      "Input: 123\n",
      "Outbput: 321\n",
      "\n",
      "Input: -123\n",
      "Outbput: -321\n",
      "\n",
      "Input: 120\n",
      "Outbput: 21\n",
      "\n"
     ]
    }
   ],
   "source": [
    "class Solution:\n",
    "    def reverse(self, x: int) -> int:\n",
    "        if(x >= 0):\n",
    "            return int(str(x)[::-1])\n",
    "        else:\n",
    "            return -1 * int(str(abs(x))[::-1])\n",
    "\n",
    "solution = Solution()\n",
    "for x in [123, -123, 120]:\n",
    "    print(\"Input: %s\" % str(x))\n",
    "    print('Outbput: %s\\n' % str(solution.reverse(x)))"
   ]
  },
  {
   "cell_type": "code",
   "execution_count": null,
   "metadata": {},
   "outputs": [],
   "source": []
  }
 ],
 "metadata": {
  "kernelspec": {
   "display_name": "Python 3",
   "language": "python",
   "name": "python3"
  },
  "language_info": {
   "codemirror_mode": {
    "name": "ipython",
    "version": 3
   },
   "file_extension": ".py",
   "mimetype": "text/x-python",
   "name": "python",
   "nbconvert_exporter": "python",
   "pygments_lexer": "ipython3",
   "version": "3.6.4"
  }
 },
 "nbformat": 4,
 "nbformat_minor": 2
}
