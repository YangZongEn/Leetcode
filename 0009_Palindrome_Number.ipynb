{
 "cells": [
  {
   "cell_type": "markdown",
   "metadata": {},
   "source": [
    "Determine whether an integer is a palindrome. An integer is a palindrome when it reads the same backward as forward.\n",
    "\n",
    "* Example 1:\n",
    "\n",
    "<pre>\n",
    "Input: 121\n",
    "Output: true\n",
    "</pre>\n",
    "\n",
    "* Example 2:\n",
    "\n",
    "<pre>\n",
    "Input: -121\n",
    "Output: false\n",
    "Explanation: From left to right, it reads -121. From right to left, it becomes 121-. Therefore it is not a palindrome.\n",
    "</pre>\n",
    "\n",
    "* Example 3:\n",
    "\n",
    "<pre>\n",
    "Input: 10\n",
    "Output: false\n",
    "Explanation: Reads 01 from right to left. Therefore it is not a palindrome.\n",
    "</pre>\n"
   ]
  },
  {
   "cell_type": "code",
   "execution_count": 3,
   "metadata": {},
   "outputs": [
    {
     "name": "stdout",
     "output_type": "stream",
     "text": [
      "Input: 121\n",
      "Outbput: True\n",
      "\n",
      "Input: -121\n",
      "Outbput: False\n",
      "\n",
      "Input: 10\n",
      "Outbput: False\n",
      "\n"
     ]
    }
   ],
   "source": [
    "class Solution:\n",
    "    def isPalindrome(self, x: int) -> bool:\n",
    "        result = False\n",
    "        if(x >= 0 and x == int(str(x)[::-1])):\n",
    "            result = True\n",
    "        else:\n",
    "            result = False\n",
    "        return result\n",
    "\n",
    "solution = Solution()\n",
    "for x in [121, -121, 10]:\n",
    "    print(\"Input: %s\" % str(x))\n",
    "    print('Outbput: %s\\n' % str(solution.isPalindrome(x)))"
   ]
  },
  {
   "cell_type": "code",
   "execution_count": null,
   "metadata": {},
   "outputs": [],
   "source": []
  }
 ],
 "metadata": {
  "kernelspec": {
   "display_name": "Python 3",
   "language": "python",
   "name": "python3"
  },
  "language_info": {
   "codemirror_mode": {
    "name": "ipython",
    "version": 3
   },
   "file_extension": ".py",
   "mimetype": "text/x-python",
   "name": "python",
   "nbconvert_exporter": "python",
   "pygments_lexer": "ipython3",
   "version": "3.6.4"
  }
 },
 "nbformat": 4,
 "nbformat_minor": 2
}
