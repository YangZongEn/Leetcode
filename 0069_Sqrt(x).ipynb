{
 "cells": [
  {
   "cell_type": "markdown",
   "metadata": {},
   "source": [
    "Implement int sqrt(int x).\n",
    "\n",
    "Compute and return the square root of x, where x is guaranteed to be a non-negative integer.\n",
    "\n",
    "Since the return type is an integer, the decimal digits are truncated and only the integer part of the result is returned.\n",
    "\n",
    "* Example 1:\n",
    "\n",
    "<pre>\n",
    "Input: 4\n",
    "Output: 2\n",
    "</pre>\n",
    "\n",
    "* Example 2:\n",
    "\n",
    "<pre>\n",
    "Input: 8\n",
    "Output: 2\n",
    "Explanation: The square root of 8 is 2.82842..., and since \n",
    "             the decimal part is truncated, 2 is returned.\n",
    "</pre>"
   ]
  },
  {
   "cell_type": "code",
   "execution_count": 1,
   "metadata": {},
   "outputs": [
    {
     "name": "stdout",
     "output_type": "stream",
     "text": [
      "Input: 4\n",
      "Outbput: 2\n",
      "\n",
      "Input: 8\n",
      "Outbput: 2\n",
      "\n",
      "Input: -1\n",
      "Outbput: -1\n",
      "\n"
     ]
    }
   ],
   "source": [
    "from math import sqrt\n",
    "\n",
    "class Solution:\n",
    "    def mySqrt(self, x: int) -> int:\n",
    "        return -1 if (x < 0) else int(sqrt(x))\n",
    "              \n",
    "solution = Solution()\n",
    "for item in [4, 8, -1]:\n",
    "    print(\"Input: %d\" % (item))\n",
    "    print('Outbput: %d\\n' % solution.mySqrt(item))"
   ]
  },
  {
   "cell_type": "code",
   "execution_count": null,
   "metadata": {},
   "outputs": [],
   "source": []
  }
 ],
 "metadata": {
  "kernelspec": {
   "display_name": "Python 3",
   "language": "python",
   "name": "python3"
  },
  "language_info": {
   "codemirror_mode": {
    "name": "ipython",
    "version": 3
   },
   "file_extension": ".py",
   "mimetype": "text/x-python",
   "name": "python",
   "nbconvert_exporter": "python",
   "pygments_lexer": "ipython3",
   "version": "3.6.4"
  }
 },
 "nbformat": 4,
 "nbformat_minor": 2
}
