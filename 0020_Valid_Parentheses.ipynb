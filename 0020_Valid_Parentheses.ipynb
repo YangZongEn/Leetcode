{
 "cells": [
  {
   "cell_type": "markdown",
   "metadata": {},
   "source": [
    "Given a string containing just the characters '(', ')', '{', '}', '[' and ']', determine if the input string is valid.\n",
    "\n",
    "An input string is valid if:\n",
    "\n",
    "1. Open brackets must be closed by the same type of brackets.\n",
    "2. Open brackets must be closed in the correct order.\n",
    "\n",
    "Note that an empty string is also considered valid.\n",
    "\n",
    "* Example 1:\n",
    "\n",
    "<pre>\n",
    "Input: \"()\"\n",
    "Output: true\n",
    "</pre>\n",
    "\n",
    "* Example 2:\n",
    "\n",
    "<pre>\n",
    "Input: \"()[]{}\"\n",
    "Output: true\n",
    "</pre>\n",
    "\n",
    "* Example 3:\n",
    "\n",
    "<pre>\n",
    "Input: \"(]\"\n",
    "Output: false\n",
    "</pre>\n",
    "\n",
    "* Example 4:\n",
    "\n",
    "<pre>\n",
    "Input: \"([)]\"\n",
    "Output: false\n",
    "</pre>\n"
   ]
  },
  {
   "cell_type": "code",
   "execution_count": 9,
   "metadata": {},
   "outputs": [
    {
     "name": "stdout",
     "output_type": "stream",
     "text": [
      "Input: ()\n",
      "length =  True\n",
      "Input: ()[]{}\n",
      "length =  True\n",
      "Input: (]\n",
      "length =  False\n",
      "Input: ([)]\n",
      "length =  False\n"
     ]
    }
   ],
   "source": [
    "class Solution:\n",
    "    def isValid(self, s: str) -> bool:\n",
    "        if len(s) % 2 != 0:\n",
    "            return False\n",
    "        \n",
    "        pool = []\n",
    "        for item in s:\n",
    "            if(len(pool) == 0):\n",
    "                pool.append(item)\n",
    "                continue\n",
    "            \n",
    "            if(patten_dict[pool[-1]] == item):\n",
    "                del pool[-1]\n",
    "                \n",
    "        return True if(len(pool) == 0) else False\n",
    "\n",
    "patten_dict = {'(': ')', '[': ']', '{': '}'}\n",
    "solution = Solution()\n",
    "for s in ['()', '()[]{}', '(]', '([)]']:\n",
    "    print(\"Input: %s\" % str(s))\n",
    "    print('length = ', str(solution.isValid(s)))"
   ]
  },
  {
   "cell_type": "code",
   "execution_count": null,
   "metadata": {},
   "outputs": [],
   "source": []
  }
 ],
 "metadata": {
  "kernelspec": {
   "display_name": "Python 3",
   "language": "python",
   "name": "python3"
  },
  "language_info": {
   "codemirror_mode": {
    "name": "ipython",
    "version": 3
   },
   "file_extension": ".py",
   "mimetype": "text/x-python",
   "name": "python",
   "nbconvert_exporter": "python",
   "pygments_lexer": "ipython3",
   "version": "3.6.4"
  }
 },
 "nbformat": 4,
 "nbformat_minor": 2
}
