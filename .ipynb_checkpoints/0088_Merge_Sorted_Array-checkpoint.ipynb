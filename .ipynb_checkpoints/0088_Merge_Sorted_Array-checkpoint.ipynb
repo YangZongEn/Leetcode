{
 "cells": [
  {
   "cell_type": "markdown",
   "metadata": {},
   "source": [
    "Given two sorted integer arrays nums1 and nums2, merge nums2 into nums1 as one sorted array.\n",
    "\n",
    "Note:\n",
    "\n",
    "1. The number of elements initialized in nums1 and nums2 are m and n respectively.\n",
    "2. You may assume that nums1 has enough space (size that is greater or equal to m + n) to hold additional elements from nums2.\n",
    "\n",
    "\n",
    "* Example 1:\n",
    "\n",
    "<pre>\n",
    "Input:\n",
    "nums1 = [1,2,3,0,0,0], m = 3\n",
    "nums2 = [2,5,6],       n = 3\n",
    "\n",
    "Output: [1,2,2,3,5,6]\n",
    "</pre>"
   ]
  },
  {
   "cell_type": "code",
   "execution_count": 22,
   "metadata": {},
   "outputs": [
    {
     "name": "stdout",
     "output_type": "stream",
     "text": [
      "Input: \n",
      " nums1 = [1, 2, 3, 0, 0, 0], m = 3 \n",
      " nums2 = [2, 5, 6], n = 3\n",
      "Outbput: [1, 2, 2, 3, 5, 6]\n",
      "\n"
     ]
    }
   ],
   "source": [
    "class Solution:\n",
    "    def merge(self, nums1: list, m: int, nums2: list, n: int) -> None:\n",
    "        \"\"\"\n",
    "        Do not return anything, modify nums1 in-place instead.\n",
    "        \"\"\"\n",
    "        print('Outbput: %s\\n' % str(sorted(nums1[:m] + nums2[:n])))\n",
    "solution = Solution()\n",
    "print(\"Input: \\n nums1 = %s, m = %d \\n nums2 = %s, n = %d\" % (str([1,2,3,0,0,0]), 3, str([2,5,6]), 3))\n",
    "solution.merge([1,2,3,0,0,0], 3, [2,5,6], 3)"
   ]
  },
  {
   "cell_type": "code",
   "execution_count": null,
   "metadata": {},
   "outputs": [],
   "source": []
  }
 ],
 "metadata": {
  "kernelspec": {
   "display_name": "Python 3",
   "language": "python",
   "name": "python3"
  },
  "language_info": {
   "codemirror_mode": {
    "name": "ipython",
    "version": 3
   },
   "file_extension": ".py",
   "mimetype": "text/x-python",
   "name": "python",
   "nbconvert_exporter": "python",
   "pygments_lexer": "ipython3",
   "version": "3.6.4"
  }
 },
 "nbformat": 4,
 "nbformat_minor": 2
}
