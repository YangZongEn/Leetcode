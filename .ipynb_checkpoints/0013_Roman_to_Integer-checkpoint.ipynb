{
 "cells": [
  {
   "cell_type": "markdown",
   "metadata": {},
   "source": [
    "Roman numerals are represented by seven different symbols: I, V, X, L, C, D and M.\n",
    "\n",
    "<pre>\n",
    "Symbol       Value\n",
    "I             1\n",
    "V             5\n",
    "X             10\n",
    "L             50\n",
    "C             100\n",
    "D             500\n",
    "M             1000\n",
    "\n",
    "For example, two is written as II in Roman numeral, just two one's added together. Twelve is written as, XII, which is simply X + II. The number twenty seven is written as XXVII, which is XX + V + II.\n",
    "\n",
    "Roman numerals are usually written largest to smallest from left to right. However, the numeral for four is not IIII. Instead, the number four is written as IV. Because the one is before the five we subtract it making four. The same principle applies to the number nine, which is written as IX. There are six instances where subtraction is used:\n",
    "\n",
    "I can be placed before V (5) and X (10) to make 4 and 9. \n",
    "X can be placed before L (50) and C (100) to make 40 and 90. \n",
    "C can be placed before D (500) and M (1000) to make 400 and 900.\n",
    "Given a roman numeral, convert it to an integer. Input is guaranteed to be within the range from 1 to 3999.\n",
    "\n",
    "</pre>\n",
    "* Example 1:\n",
    "\n",
    "<pre>\n",
    "Input: \"III\"\n",
    "Output: 3\n",
    "</pre>\n",
    "\n",
    "* Example 2:\n",
    "\n",
    "<pre>\n",
    "Input: \"IV\"\n",
    "Output: 4\n",
    "</pre>\n",
    "\n",
    "* Example 3:\n",
    "\n",
    "<pre>\n",
    "Input: \"LVIII\"\n",
    "Output: 58\n",
    "Explanation: L = 50, V= 5, III = 3.\n",
    "</pre>\n",
    "\n",
    "* Example 4:\n",
    "\n",
    "<pre>\n",
    "Input: \"MCMXCIV\"\n",
    "Output: 1994\n",
    "Explanation: M = 1000, CM = 900, XC = 90 and IV = 4.\n",
    "</pre>"
   ]
  },
  {
   "cell_type": "code",
   "execution_count": 26,
   "metadata": {},
   "outputs": [
    {
     "name": "stdout",
     "output_type": "stream",
     "text": [
      "Input: III\n",
      "Output: 3\n",
      "\n",
      "Input: IV\n",
      "Output: 4\n",
      "\n",
      "Input: LVIII\n",
      "Output: 58\n",
      "\n",
      "Input: MCMXCIV\n",
      "Output: 1994\n",
      "\n"
     ]
    }
   ],
   "source": [
    "class Solution:\n",
    "    def romanToInt(self, s: str) -> int:\n",
    "        count, box, tag = 0, \"\", True\n",
    "        for i in s:\n",
    "            if tag:\n",
    "                box = i\n",
    "                tag = False\n",
    "                continue\n",
    "                \n",
    "            if(symbol_keys.index(i) <= symbol_keys.index(box)):\n",
    "                count = count + symbol_dict[box]\n",
    "                box = i\n",
    "            else:\n",
    "                count = count + (symbol_dict[i] - symbol_dict[box])\n",
    "                tag = True\n",
    "                box = \"\"\n",
    "        \n",
    "        return count + (symbol_dict[i] if box != \"\" else 0)\n",
    "    \n",
    "symbol_dict = {'I':1, 'V' : 5, 'X' : 10, 'L' : 50, 'C' : 100, 'D' : 500, 'M' : 1000}\n",
    "symbol_keys = list(symbol_dict.keys())\n",
    "\n",
    "solution = Solution()\n",
    "for s in ['III', 'IV', 'LVIII','MCMXCIV']:\n",
    "    print(\"Input: %s\" % s)\n",
    "    print('Output: %d\\n' % solution.romanToInt(s))"
   ]
  },
  {
   "cell_type": "code",
   "execution_count": null,
   "metadata": {},
   "outputs": [],
   "source": []
  }
 ],
 "metadata": {
  "kernelspec": {
   "display_name": "Python 3",
   "language": "python",
   "name": "python3"
  },
  "language_info": {
   "codemirror_mode": {
    "name": "ipython",
    "version": 3
   },
   "file_extension": ".py",
   "mimetype": "text/x-python",
   "name": "python",
   "nbconvert_exporter": "python",
   "pygments_lexer": "ipython3",
   "version": "3.6.4"
  }
 },
 "nbformat": 4,
 "nbformat_minor": 2
}
