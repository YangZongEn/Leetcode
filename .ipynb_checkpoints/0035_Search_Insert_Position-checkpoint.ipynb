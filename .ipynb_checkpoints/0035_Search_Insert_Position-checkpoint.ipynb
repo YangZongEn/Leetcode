{
 "cells": [
  {
   "cell_type": "markdown",
   "metadata": {},
   "source": [
    "Given a sorted array and a target value, return the index if the target is found. If not, return the index where it would be if it were inserted in order.\n",
    "\n",
    "You may assume no duplicates in the array.\n",
    "\n",
    "* Example 1:\n",
    "\n",
    "<pre>\n",
    "Input: [1,3,5,6], 5\n",
    "Output: 2\n",
    "</pre>\n",
    "\n",
    "* Example 2:\n",
    "\n",
    "<pre>\n",
    "Input: [1,3,5,6], 2\n",
    "Output: 1\n",
    "</pre>\n",
    "\n",
    "* Example 3:\n",
    "\n",
    "<pre>\n",
    "Input: [1,3,5,6], 7\n",
    "Output: 4\n",
    "</pre>\n",
    "\n",
    "* Example 4:\n",
    "\n",
    "<pre>\n",
    "Input: [1,3,5,6], 0\n",
    "Output: 0\n",
    "</pre>"
   ]
  },
  {
   "cell_type": "code",
   "execution_count": 4,
   "metadata": {},
   "outputs": [
    {
     "name": "stdout",
     "output_type": "stream",
     "text": [
      "Input: [1, 3, 5, 6], 5\n",
      "Outbput: 2\n",
      "\n",
      "Input: [1, 3, 5, 6], 2\n",
      "Outbput: 1\n",
      "\n",
      "Input: [1, 3, 5, 6], 7\n",
      "Outbput: 4\n",
      "\n",
      "Input: [1, 3, 5, 6], 0\n",
      "Outbput: 0\n",
      "\n"
     ]
    }
   ],
   "source": [
    "import numpy as np\n",
    "\n",
    "class Solution:\n",
    "    def searchInsert(self, nums: list, target: int) -> int:\n",
    "            return sum(np.array(nums) < target)\n",
    "\n",
    "solution = Solution()\n",
    "\n",
    "sorted_array = [1,3,5,6]\n",
    "target_list = [5, 2, 7, 0]\n",
    "for target in target_list:\n",
    "    print(\"Input: %s, %d\" %(str(sorted_array), target))\n",
    "    print('Outbput: %d\\n' % solution.searchInsert(sorted_array, target))"
   ]
  },
  {
   "cell_type": "code",
   "execution_count": 2,
   "metadata": {},
   "outputs": [
    {
     "data": {
      "text/plain": [
       "array([False, False,  True,  True])"
      ]
     },
     "execution_count": 2,
     "metadata": {},
     "output_type": "execute_result"
    }
   ],
   "source": [
    "\n",
    "\n"
   ]
  },
  {
   "cell_type": "code",
   "execution_count": null,
   "metadata": {},
   "outputs": [],
   "source": []
  }
 ],
 "metadata": {
  "kernelspec": {
   "display_name": "Python 3",
   "language": "python",
   "name": "python3"
  },
  "language_info": {
   "codemirror_mode": {
    "name": "ipython",
    "version": 3
   },
   "file_extension": ".py",
   "mimetype": "text/x-python",
   "name": "python",
   "nbconvert_exporter": "python",
   "pygments_lexer": "ipython3",
   "version": "3.6.4"
  }
 },
 "nbformat": 4,
 "nbformat_minor": 2
}
