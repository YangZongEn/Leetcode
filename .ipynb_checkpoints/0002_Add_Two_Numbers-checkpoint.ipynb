{
 "cells": [
  {
   "cell_type": "markdown",
   "metadata": {},
   "source": [
    "You are given two non-empty linked lists representing two non-negative integers. The digits are stored in reverse order and each of their nodes contain a single digit. Add the two numbers and return it as a linked list.\n",
    "\n",
    "You may assume the two numbers do not contain any leading zero, except the number 0 itself.\n",
    "\n",
    "Example:\n",
    "\n",
    "Input: (2 -> 4 -> 3) + (5 -> 6 -> 4)\n",
    "\n",
    "Output: 7 -> 0 -> 8\n",
    "\n",
    "Explanation: 342 + 465 = 807."
   ]
  },
  {
   "cell_type": "code",
   "execution_count": 38,
   "metadata": {},
   "outputs": [
    {
     "name": "stdout",
     "output_type": "stream",
     "text": [
      "輸入3整數: 2 -> 4 -> 3\n",
      "輸入3整數: 5 -> 6 -> 4\n",
      "8 -> 0 -> 7\n"
     ]
    }
   ],
   "source": [
    "def check_list():\n",
    "    tag = True\n",
    "    input_value_list = []\n",
    "    while(tag):\n",
    "        input_value_list = input(\"輸入3整數: \").split(' -> ')\n",
    "        if(len(input_value_list) == 3):\n",
    "            for i, item in enumerate(input_value_list):\n",
    "                try:\n",
    "                    value = int(item)\n",
    "                    if(i == 0 and value == 0):\n",
    "                        raise ValueError(\"馬的，開頭不能等於0好嗎！\")\n",
    "                    elif(value <= 0):\n",
    "                        raise ValueError(\"馬的，數字只能正整數好嗎！\")\n",
    "\n",
    "                except ValueError as e:\n",
    "                    print(e if e != \"\" else \"馬的，輸入數字好嗎！\")\n",
    "                    break\n",
    "            tag = False\n",
    "        else:\n",
    "            print(\"馬的，輸入三個數字就好了！\")\n",
    "            \n",
    "    return [int(item) for item in input_value_list]\n",
    "\n",
    "first_list, second_list = check_list(), check_list()\n",
    "\n",
    "result_list = [\"\"] * len(first_list)\n",
    "round_up_tag = False\n",
    "for i in range(len(first_list) - 1, -1 , -1):\n",
    "    add = first_list[i] + second_list[i] + (1 if round_up_tag else 0)\n",
    "    \n",
    "    if add >= 10:\n",
    "        add = add - 10\n",
    "        round_up_tag = True \n",
    "    else:\n",
    "        round_up_tag = False\n",
    "\n",
    "    result_list[i] = str(add)\n",
    "\n",
    "print(' -> '.join(result_list))"
   ]
  }
 ],
 "metadata": {
  "kernelspec": {
   "display_name": "Python 3",
   "language": "python",
   "name": "python3"
  }
 },
 "nbformat": 4,
 "nbformat_minor": 2
}
