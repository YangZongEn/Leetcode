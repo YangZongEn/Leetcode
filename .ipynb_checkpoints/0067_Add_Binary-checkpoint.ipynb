{
 "cells": [
  {
   "cell_type": "markdown",
   "metadata": {},
   "source": [
    "Given two binary strings, return their sum (also a binary string).\n",
    "\n",
    "The input strings are both non-empty and contains only characters 1 or 0.\n",
    "\n",
    "* Example 1:\n",
    "\n",
    "<pre>\n",
    "Input: a = \"11\", b = \"1\"\n",
    "Output: \"100\"\n",
    "</pre>\n",
    "\n",
    "* Example 2:\n",
    "\n",
    "<pre>\n",
    "Input: a = \"1010\", b = \"1011\"\n",
    "Output: \"10101\"\n",
    "</pre>"
   ]
  },
  {
   "cell_type": "code",
   "execution_count": 71,
   "metadata": {},
   "outputs": [
    {
     "name": "stdout",
     "output_type": "stream",
     "text": [
      "Input: a = 11, b = 11\n",
      "Outbput: 110\n",
      "\n",
      "Input: a = 11, b = 1\n",
      "Outbput: 100\n",
      "\n",
      "Input: a = 1010, b = 1011\n",
      "Outbput: 10101\n",
      "\n",
      "Input: a = , b = 1011\n",
      "Outbput: 別鬧了，輸入空字串衝三小？\n",
      "\n",
      "Input: a = 123, b = 111\n",
      "Outbput: 馬的，死廢物嗎？不會輸入只有0跟1的字串嗎？\n",
      "\n"
     ]
    }
   ],
   "source": [
    "class Solution:\n",
    "    def onlyContains(self, s):\n",
    "        return len(s) != (s.count(\"0\") + s.count(\"1\"))\n",
    "    \n",
    "    def addBinary(self, a: str, b: str) -> str:\n",
    "        if(self.onlyContains(a) or self.onlyContains(a)):\n",
    "            return \"馬的，死廢物嗎？不會輸入只有0跟1的字串嗎？\"\n",
    "        elif(a == \"\" or b == \"\"):\n",
    "            return \"別鬧了，輸入空字串衝三小？\"\n",
    "        \n",
    "        max_len = len(max([a, b], key=len))\n",
    "        a, b = a.zfill(max_len), b.zfill(max_len)\n",
    "                      \n",
    "        result_list, carry, add = [\"0\"] * max_len, False, 0\n",
    "        for i in range(len(a) - 1, -1 , -1):\n",
    "            add = int(a[i]) + int(b[i]) + (1 if carry else 0)\n",
    "            if(add >= 2):\n",
    "                result_list[i] = str(add - 2)\n",
    "                carry = True\n",
    "            else:\n",
    "                result_list[i] = str(add)\n",
    "                carry = False\n",
    "                \n",
    "        if(carry):\n",
    "            result_list.insert(0, \"1\")\n",
    "            \n",
    "        return ''.join(result_list)\n",
    "              \n",
    "solution = Solution()\n",
    "for item in [[\"11\", \"1\"], [\"1010\", \"1011\"], [\"\", \"1011\"], [\"123\", \"111\"]]:\n",
    "    print(\"Input: a = %s, b = %s\" % (item[0], item[1]))\n",
    "    print('Outbput: %s\\n' % solution.addBinary(item[0], item[1]))"
   ]
  },
  {
   "cell_type": "code",
   "execution_count": 22,
   "metadata": {},
   "outputs": [
    {
     "data": {
      "text/plain": [
       "0"
      ]
     },
     "execution_count": 22,
     "metadata": {},
     "output_type": "execute_result"
    }
   ],
   "source": [
    "\"11\".count(\"0\")"
   ]
  },
  {
   "cell_type": "code",
   "execution_count": null,
   "metadata": {},
   "outputs": [],
   "source": []
  }
 ],
 "metadata": {
  "kernelspec": {
   "display_name": "Python 3",
   "language": "python",
   "name": "python3"
  },
  "language_info": {
   "codemirror_mode": {
    "name": "ipython",
    "version": 3
   },
   "file_extension": ".py",
   "mimetype": "text/x-python",
   "name": "python",
   "nbconvert_exporter": "python",
   "pygments_lexer": "ipython3",
   "version": "3.6.4"
  }
 },
 "nbformat": 4,
 "nbformat_minor": 2
}
