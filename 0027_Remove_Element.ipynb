{
 "cells": [
  {
   "cell_type": "markdown",
   "metadata": {},
   "source": [
    "Given an array nums and a value val, remove all instances of that value in-place and return the new length.\n",
    "\n",
    "Do not allocate extra space for another array, you must do this by modifying the input array in-place with O(1) extra memory.\n",
    "\n",
    "The order of elements can be changed. It doesn't matter what you leave beyond the new length.\n",
    "\n",
    "* Example 1:\n",
    "\n",
    "<pre>\n",
    "Given nums = [3,2,2,3], val = 3,\n",
    "\n",
    "Your function should return length = 2, with the first two elements of nums being 2.\n",
    "\n",
    "It doesn't matter what you leave beyond the returned length.\n",
    "</pre>\n",
    "\n",
    "* Example 2:\n",
    "\n",
    "<pre>\n",
    "Given nums = [0,1,2,2,3,0,4,2], val = 2,\n",
    "\n",
    "Your function should return length = 5, with the first five elements of nums containing 0, 1, 3, 0, and 4.\n",
    "\n",
    "Note that the order of those five elements can be arbitrary.\n",
    "\n",
    "It doesn't matter what values are set beyond the returned length.\n",
    "</pre>\n"
   ]
  },
  {
   "cell_type": "code",
   "execution_count": 4,
   "metadata": {},
   "outputs": [
    {
     "name": "stdout",
     "output_type": "stream",
     "text": [
      "Surplus List: [2, 2], length: 2\n",
      "Surplus List: [0, 1, 3, 0, 4], length: 5\n"
     ]
    }
   ],
   "source": [
    "class Solution:\n",
    "    def removeElement(self, nums: list, val: int) -> int:\n",
    "        for x in range(nums.count(val)):\n",
    "            nums.remove(val)\n",
    "        return nums\n",
    "\n",
    "solution = Solution()\n",
    "\n",
    "input_dic = {3: [3,2,2,3], 2: [0,1,2,2,3,0,4,2]}\n",
    "for val, nums in input_dic.items():\n",
    "    result = solution.removeElement(nums, val)\n",
    "    \n",
    "    print('Surplus List: %s, length: %d' %(str(result), len(result)))"
   ]
  },
  {
   "cell_type": "code",
   "execution_count": null,
   "metadata": {},
   "outputs": [],
   "source": []
  }
 ],
 "metadata": {
  "kernelspec": {
   "display_name": "Python 3",
   "language": "python",
   "name": "python3"
  },
  "language_info": {
   "codemirror_mode": {
    "name": "ipython",
    "version": 3
   },
   "file_extension": ".py",
   "mimetype": "text/x-python",
   "name": "python",
   "nbconvert_exporter": "python",
   "pygments_lexer": "ipython3",
   "version": "3.6.4"
  }
 },
 "nbformat": 4,
 "nbformat_minor": 2
}
