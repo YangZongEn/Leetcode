{
 "cells": [
  {
   "cell_type": "markdown",
   "metadata": {},
   "source": [
    "Given a string, find the length of the longest substring without repeating characters.\n",
    "\n",
    "Example 1:\n",
    "\n",
    "<pre>\n",
    "Input: \"abcabcbb\"\n",
    "Output: 3 \n",
    "Explanation: The answer is \"abc\", with the length of 3. \n",
    "Example 2:\n",
    "\n",
    "Input: \"bbbbb\"\n",
    "Output: 1\n",
    "Explanation: The answer is \"b\", with the length of 1.\n",
    "Example 3:\n",
    "\n",
    "Input: \"pwwkew\"\n",
    "Output: 3\n",
    "Explanation: The answer is \"wke\", with the length of 3. \n",
    "             Note that the answer must be a substring, \"pwke\" is a subsequence and not a substring.\n",
    "</pre>"
   ]
  },
  {
   "cell_type": "code",
   "execution_count": 15,
   "metadata": {},
   "outputs": [
    {
     "name": "stdout",
     "output_type": "stream",
     "text": [
      "Input: abcabcbb\n",
      "Output:  abc\n",
      "Output length:  3\n"
     ]
    }
   ],
   "source": [
    "class Solution:\n",
    "    def lengthOfLongestSubstring(self, s: str) -> int:\n",
    "        match_list = []\n",
    "\n",
    "        for index in range(len(s)):\n",
    "            substring = \"\"\n",
    "            for value in s[index:]:\n",
    "                if(value not in substring):\n",
    "                    substring += value\n",
    "                else:\n",
    "                    break\n",
    "\n",
    "            if(substring not in match_list):\n",
    "                match_list.append(substring)\n",
    "\n",
    "        result = max(match_list, key=len)\n",
    "        return set(result)\n",
    "    \n",
    "solution = Solution()\n",
    "result = solution.lengthOfLongestSubstring(input(\"Input: \"))\n",
    "\n",
    "print(\"Output: \", result)\n",
    "print(\"Output length: \", len(result))"
   ]
  }
 ],
 "metadata": {
  "kernelspec": {
   "display_name": "Python 3",
   "language": "python",
   "name": "python3"
  },
  "language_info": {
   "codemirror_mode": {
    "name": "ipython",
    "version": 3
   },
   "file_extension": ".py",
   "mimetype": "text/x-python",
   "name": "python",
   "nbconvert_exporter": "python",
   "pygments_lexer": "ipython3",
   "version": "3.6.4"
  }
 },
 "nbformat": 4,
 "nbformat_minor": 2
}
